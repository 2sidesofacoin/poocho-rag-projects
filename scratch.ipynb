{
 "cells": [
  {
   "cell_type": "code",
   "execution_count": 10,
   "metadata": {},
   "outputs": [],
   "source": [
    "from transcript_manager.core.database import Database\n",
    "from transcript_manager.services.project import ProjectService\n",
    "from transcript_manager.services.transcript import TranscriptService\n",
    "import uuid\n",
    "import json\n",
    "import os"
   ]
  },
  {
   "cell_type": "code",
   "execution_count": 11,
   "metadata": {},
   "outputs": [],
   "source": [
    "db = Database()\n",
    "session = next(db.get_session())"
   ]
  },
  {
   "cell_type": "code",
   "execution_count": 13,
   "metadata": {},
   "outputs": [],
   "source": [
    "# Create project service\n",
    "project_service = ProjectService(session)\n",
    "transcript_service = TranscriptService(session)\n",
    "\n",
    "# Create a new project. RUN ONCE\n",
    "# project = project_service.create_project(\"Savings & Budgets, Millennials\", \"Project to understand how millennials save and budget\")"
   ]
  },
  {
   "cell_type": "code",
   "execution_count": 14,
   "metadata": {},
   "outputs": [
    {
     "name": "stdout",
     "output_type": "stream",
     "text": [
      "name Savings & Budgets, Millennials | id 1e7a71f8-c8b1-44cc-ab53-b61d086f3eb0\n"
     ]
    }
   ],
   "source": [
    "projects = project_service.list_projects()\n",
    "for project in projects:\n",
    "    print(\"name\", project.name, \"| id\", project.id)\n",
    "\n",
    "# Convert project_id to UUID object\n",
    "project_id = uuid.UUID('1e7a71f8-c8b1-44cc-ab53-b61d086f3eb0')\n"
   ]
  },
  {
   "cell_type": "code",
   "execution_count": 15,
   "metadata": {},
   "outputs": [],
   "source": [
    "FILE_PATH = \"/users/aakarshramchandani/downloads/savings_and_budgeting_millennials/tanya_analyzed.json\"\n",
    "file_name = os.path.basename(FILE_PATH)\n",
    "\n",
    "# Add a transcript to the project\n",
    "with open(FILE_PATH, \"r\") as f:\n",
    "    transcript_content = json.load(f)"
   ]
  },
  {
   "cell_type": "code",
   "execution_count": 16,
   "metadata": {},
   "outputs": [],
   "source": [
    "transcript = transcript_service.add_transcript(\n",
    "        project_id=project_id,\n",
    "        filename=file_name,\n",
    "        content=transcript_content\n",
    "    )"
   ]
  },
  {
   "cell_type": "code",
   "execution_count": null,
   "metadata": {},
   "outputs": [],
   "source": []
  }
 ],
 "metadata": {
  "kernelspec": {
   "display_name": ".venv",
   "language": "python",
   "name": "python3"
  },
  "language_info": {
   "codemirror_mode": {
    "name": "ipython",
    "version": 3
   },
   "file_extension": ".py",
   "mimetype": "text/x-python",
   "name": "python",
   "nbconvert_exporter": "python",
   "pygments_lexer": "ipython3",
   "version": "3.13.0"
  }
 },
 "nbformat": 4,
 "nbformat_minor": 2
}
