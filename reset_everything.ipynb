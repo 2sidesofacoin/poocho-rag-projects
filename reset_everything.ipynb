{
 "cells": [
  {
   "cell_type": "code",
   "execution_count": 1,
   "metadata": {},
   "outputs": [],
   "source": [
    "from sqlalchemy import create_engine\n",
    "from transcript_manager.core.models import Base\n",
    "\n",
    "# Replace with your actual database URL\n",
    "db_url = \"sqlite:///transcript_manager/data/transcripts.db\"\n",
    "engine = create_engine(db_url)\n",
    "\n",
    "# Drop all tables\n",
    "Base.metadata.drop_all(engine)\n",
    "\n",
    "# Recreate all tables\n",
    "Base.metadata.create_all(engine)"
   ]
  }
 ],
 "metadata": {
  "kernelspec": {
   "display_name": ".venv",
   "language": "python",
   "name": "python3"
  },
  "language_info": {
   "codemirror_mode": {
    "name": "ipython",
    "version": 3
   },
   "file_extension": ".py",
   "mimetype": "text/x-python",
   "name": "python",
   "nbconvert_exporter": "python",
   "pygments_lexer": "ipython3",
   "version": "3.13.0"
  }
 },
 "nbformat": 4,
 "nbformat_minor": 2
}
